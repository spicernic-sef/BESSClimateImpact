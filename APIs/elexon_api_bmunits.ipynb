{
 "cells": [
  {
   "cell_type": "code",
   "execution_count": 3,
   "id": "eefd781f",
   "metadata": {},
   "outputs": [
    {
     "name": "stdout",
     "output_type": "stream",
     "text": [
      "Saved BM Unit data to:\n",
      "C:\\Users\\spice\\Dropbox\\Documents\\Imperial 2024.2025\\MECH70038 - Research Projects\\_My Thesis\\Data\\BMUnitReferenceData.csv\n"
     ]
    }
   ],
   "source": [
    "#This script gets a list of all BM units and their attributes from Elexon\n",
    "import requests\n",
    "import pandas as pd\n",
    "import os\n",
    "\n",
    "# API endpoint\n",
    "url = \"https://data.elexon.co.uk/bmrs/api/v1/reference/bmunits/all\"\n",
    "\n",
    "# Request headers (if authentication is needed, include it here)\n",
    "headers = {\n",
    "    \"Accept\": \"application/json\"\n",
    "}\n",
    "\n",
    "# Make the GET request\n",
    "response = requests.get(url, headers=headers)\n",
    "response.raise_for_status()\n",
    "\n",
    "# Parse JSON data\n",
    "json_data = response.json()\n",
    "\n",
    "# Extract the actual data from the \"data\" field\n",
    "bmunit_data = json_data\n",
    "\n",
    "# Convert to DataFrame\n",
    "df = pd.DataFrame(bmunit_data)\n",
    "\n",
    "# Define the file save path\n",
    "save_path = r\"C:\\Users\\spice\\Dropbox\\Documents\\Imperial 2024.2025\\MECH70038 - Research Projects\\_My Thesis\\Data\\BMUnitReferenceData.csv\"\n",
    "\n",
    "# Save to CSV\n",
    "df.to_csv(save_path, index=False)\n",
    "\n",
    "print(f\"Saved BM Unit data to:\\n{save_path}\")"
   ]
  }
 ],
 "metadata": {
  "kernelspec": {
   "display_name": "sef-python-env",
   "language": "python",
   "name": "python3"
  },
  "language_info": {
   "codemirror_mode": {
    "name": "ipython",
    "version": 3
   },
   "file_extension": ".py",
   "mimetype": "text/x-python",
   "name": "python",
   "nbconvert_exporter": "python",
   "pygments_lexer": "ipython3",
   "version": "3.12.9"
  }
 },
 "nbformat": 4,
 "nbformat_minor": 5
}
